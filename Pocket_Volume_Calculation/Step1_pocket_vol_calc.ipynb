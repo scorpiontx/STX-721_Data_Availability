{
 "cells": [
  {
   "cell_type": "markdown",
   "id": "24784d1f",
   "metadata": {},
   "source": [
    "# Libraries"
   ]
  },
  {
   "cell_type": "code",
   "execution_count": 1,
   "id": "27f3cf1c",
   "metadata": {},
   "outputs": [
    {
     "name": "stderr",
     "output_type": "stream",
     "text": [
      "/Users/jhenderson/Software/anaconda3/lib/python3.11/site-packages/MDAnalysis/topology/TPRParser.py:161: DeprecationWarning: 'xdrlib' is deprecated and slated for removal in Python 3.13\n",
      "  import xdrlib\n",
      "/Users/jhenderson/Software/anaconda3/lib/python3.11/site-packages/Bio/Application/__init__.py:39: BiopythonDeprecationWarning: The Bio.Application modules and modules relying on it have been deprecated.\n",
      "\n",
      "Due to the on going maintenance burden of keeping command line application\n",
      "wrappers up to date, we have decided to deprecate and eventually remove these\n",
      "modules.\n",
      "\n",
      "We instead now recommend building your command line and invoking it directly\n",
      "with the subprocess module.\n",
      "  warnings.warn(\n"
     ]
    }
   ],
   "source": [
    "import MDAnalysis as mda\n",
    "from MDAnalysis.analysis import align\n",
    "import MDAnalysis.analysis.rms as rms\n",
    "import matplotlib.pyplot as plt\n",
    "import glob as g\n",
    "from tqdm import tqdm\n",
    "import os\n",
    "bar_format_str = '{l_bar}{bar:20}{r_bar}{bar:-20b}'"
   ]
  },
  {
   "cell_type": "markdown",
   "id": "2929958e",
   "metadata": {},
   "source": [
    "Warnings Ignored: 1.) Atom types missing masses, 2.) Some atom types missing elemental information, 3.) Missing resid information is be reset to one (this is likely water information), 4.) np.int deprecation warning. These errors tend to happen when converting Desmond trajectories to DCD. "
   ]
  },
  {
   "cell_type": "code",
   "execution_count": 2,
   "id": "584e15a0",
   "metadata": {},
   "outputs": [],
   "source": [
    "import warnings\n",
    "warnings.filterwarnings(\"ignore\")"
   ]
  },
  {
   "cell_type": "code",
   "execution_count": 3,
   "id": "aba9c5df",
   "metadata": {},
   "outputs": [],
   "source": [
    "systems = ['WT','NPG','ASV','SVD'] \n",
    "replicas = [1,2,3,4,5]"
   ]
  },
  {
   "cell_type": "markdown",
   "id": "3279812a-0279-4125-9ba9-ffb7e45398f4",
   "metadata": {},
   "source": [
    "This will take a long time to run... Paths have been updated for data availability but calculation has not been rerun."
   ]
  },
  {
   "cell_type": "code",
   "execution_count": 4,
   "id": "022387a8",
   "metadata": {
    "code_folding": []
   },
   "outputs": [
    {
     "name": "stdout",
     "output_type": "stream",
     "text": [
      "Working on System WT Run 1.\n"
     ]
    },
    {
     "ename": "KeyboardInterrupt",
     "evalue": "",
     "output_type": "error",
     "traceback": [
      "\u001b[0;31m---------------------------------------------------------------------------\u001b[0m",
      "\u001b[0;31mKeyboardInterrupt\u001b[0m                         Traceback (most recent call last)",
      "Cell \u001b[0;32mIn[4], line 11\u001b[0m\n\u001b[1;32m      8\u001b[0m ref \u001b[38;5;241m=\u001b[39m mda\u001b[38;5;241m.\u001b[39mUniverse(ref_struct)\n\u001b[1;32m     10\u001b[0m \u001b[38;5;66;03m# Align the Trajectories\u001b[39;00m\n\u001b[0;32m---> 11\u001b[0m \u001b[43malign\u001b[49m\u001b[38;5;241;43m.\u001b[39;49m\u001b[43mAlignTraj\u001b[49m\u001b[43m(\u001b[49m\u001b[43mu\u001b[49m\u001b[43m,\u001b[49m\u001b[43m \u001b[49m\u001b[43mref\u001b[49m\u001b[43m,\u001b[49m\u001b[43m \u001b[49m\u001b[43mselect\u001b[49m\u001b[38;5;241;43m=\u001b[39;49m\u001b[38;5;124;43m\"\u001b[39;49m\u001b[38;5;124;43mname CA\u001b[39;49m\u001b[38;5;124;43m\"\u001b[39;49m\u001b[43m,\u001b[49m\u001b[43min_memory\u001b[49m\u001b[38;5;241;43m=\u001b[39;49m\u001b[38;5;28;43;01mTrue\u001b[39;49;00m\u001b[43m)\u001b[49m\u001b[38;5;241;43m.\u001b[39;49m\u001b[43mrun\u001b[49m\u001b[43m(\u001b[49m\u001b[43m)\u001b[49m\n\u001b[1;32m     13\u001b[0m \u001b[38;5;66;03m# Write the trajectory\u001b[39;00m\n\u001b[1;32m     14\u001b[0m protein \u001b[38;5;241m=\u001b[39m u\u001b[38;5;241m.\u001b[39mselect_atoms(\u001b[38;5;124m'\u001b[39m\u001b[38;5;124mprotein and not name pseu\u001b[39m\u001b[38;5;124m'\u001b[39m)\n",
      "File \u001b[0;32m~/Software/anaconda3/lib/python3.11/site-packages/MDAnalysis/analysis/base.py:448\u001b[0m, in \u001b[0;36mAnalysisBase.run\u001b[0;34m(self, start, stop, step, frames, verbose, progressbar_kwargs)\u001b[0m\n\u001b[1;32m    446\u001b[0m     \u001b[38;5;28mself\u001b[39m\u001b[38;5;241m.\u001b[39mframes[i] \u001b[38;5;241m=\u001b[39m ts\u001b[38;5;241m.\u001b[39mframe\n\u001b[1;32m    447\u001b[0m     \u001b[38;5;28mself\u001b[39m\u001b[38;5;241m.\u001b[39mtimes[i] \u001b[38;5;241m=\u001b[39m ts\u001b[38;5;241m.\u001b[39mtime\n\u001b[0;32m--> 448\u001b[0m     \u001b[38;5;28;43mself\u001b[39;49m\u001b[38;5;241;43m.\u001b[39;49m\u001b[43m_single_frame\u001b[49m\u001b[43m(\u001b[49m\u001b[43m)\u001b[49m\n\u001b[1;32m    449\u001b[0m logger\u001b[38;5;241m.\u001b[39minfo(\u001b[38;5;124m\"\u001b[39m\u001b[38;5;124mFinishing up\u001b[39m\u001b[38;5;124m\"\u001b[39m)\n\u001b[1;32m    450\u001b[0m \u001b[38;5;28mself\u001b[39m\u001b[38;5;241m.\u001b[39m_conclude()\n",
      "File \u001b[0;32m~/Software/anaconda3/lib/python3.11/site-packages/MDAnalysis/analysis/align.py:713\u001b[0m, in \u001b[0;36mAlignTraj._single_frame\u001b[0;34m(self)\u001b[0m\n\u001b[1;32m    711\u001b[0m mobile_com \u001b[38;5;241m=\u001b[39m \u001b[38;5;28mself\u001b[39m\u001b[38;5;241m.\u001b[39mmobile_atoms\u001b[38;5;241m.\u001b[39mcenter(\u001b[38;5;28mself\u001b[39m\u001b[38;5;241m.\u001b[39m_weights)\n\u001b[1;32m    712\u001b[0m mobile_coordinates \u001b[38;5;241m=\u001b[39m \u001b[38;5;28mself\u001b[39m\u001b[38;5;241m.\u001b[39mmobile_atoms\u001b[38;5;241m.\u001b[39mpositions \u001b[38;5;241m-\u001b[39m mobile_com\n\u001b[0;32m--> 713\u001b[0m mobile_atoms, \u001b[38;5;28mself\u001b[39m\u001b[38;5;241m.\u001b[39mresults\u001b[38;5;241m.\u001b[39mrmsd[index] \u001b[38;5;241m=\u001b[39m \u001b[43m_fit_to\u001b[49m\u001b[43m(\u001b[49m\n\u001b[1;32m    714\u001b[0m \u001b[43m        \u001b[49m\u001b[43mmobile_coordinates\u001b[49m\u001b[43m,\u001b[49m\n\u001b[1;32m    715\u001b[0m \u001b[43m        \u001b[49m\u001b[38;5;28;43mself\u001b[39;49m\u001b[38;5;241;43m.\u001b[39;49m\u001b[43m_ref_coordinates\u001b[49m\u001b[43m,\u001b[49m\n\u001b[1;32m    716\u001b[0m \u001b[43m        \u001b[49m\u001b[38;5;28;43mself\u001b[39;49m\u001b[38;5;241;43m.\u001b[39;49m\u001b[43mmobile\u001b[49m\u001b[43m,\u001b[49m\n\u001b[1;32m    717\u001b[0m \u001b[43m        \u001b[49m\u001b[43mmobile_com\u001b[49m\u001b[43m,\u001b[49m\n\u001b[1;32m    718\u001b[0m \u001b[43m        \u001b[49m\u001b[38;5;28;43mself\u001b[39;49m\u001b[38;5;241;43m.\u001b[39;49m\u001b[43m_ref_com\u001b[49m\u001b[43m,\u001b[49m\u001b[43m \u001b[49m\u001b[38;5;28;43mself\u001b[39;49m\u001b[38;5;241;43m.\u001b[39;49m\u001b[43m_weights\u001b[49m\u001b[43m)\u001b[49m\n\u001b[1;32m    719\u001b[0m \u001b[38;5;66;03m# write whole aligned input trajectory system\u001b[39;00m\n\u001b[1;32m    720\u001b[0m \u001b[38;5;28mself\u001b[39m\u001b[38;5;241m.\u001b[39m_writer\u001b[38;5;241m.\u001b[39mwrite(mobile_atoms)\n",
      "File \u001b[0;32m~/Software/anaconda3/lib/python3.11/site-packages/MDAnalysis/analysis/align.py:356\u001b[0m, in \u001b[0;36m_fit_to\u001b[0;34m(mobile_coordinates, ref_coordinates, mobile_atoms, mobile_com, ref_com, weights)\u001b[0m\n\u001b[1;32m    352\u001b[0m R, min_rmsd \u001b[38;5;241m=\u001b[39m rotation_matrix(mobile_coordinates, ref_coordinates,\n\u001b[1;32m    353\u001b[0m                               weights\u001b[38;5;241m=\u001b[39mweights)\n\u001b[1;32m    355\u001b[0m mobile_atoms\u001b[38;5;241m.\u001b[39mtranslate(\u001b[38;5;241m-\u001b[39mmobile_com)\n\u001b[0;32m--> 356\u001b[0m \u001b[43mmobile_atoms\u001b[49m\u001b[38;5;241;43m.\u001b[39;49m\u001b[43mrotate\u001b[49m\u001b[43m(\u001b[49m\u001b[43mR\u001b[49m\u001b[43m)\u001b[49m\n\u001b[1;32m    357\u001b[0m mobile_atoms\u001b[38;5;241m.\u001b[39mtranslate(ref_com)\n\u001b[1;32m    359\u001b[0m \u001b[38;5;28;01mreturn\u001b[39;00m mobile_atoms, min_rmsd\n",
      "File \u001b[0;32m~/Software/anaconda3/lib/python3.11/site-packages/MDAnalysis/core/groups.py:1429\u001b[0m, in \u001b[0;36mGroupBase.rotate\u001b[0;34m(self, R, point)\u001b[0m\n\u001b[1;32m   1426\u001b[0m     atomgroup\u001b[38;5;241m.\u001b[39muniverse\u001b[38;5;241m.\u001b[39mtrajectory\u001b[38;5;241m.\u001b[39mts\u001b[38;5;241m.\u001b[39mpositions[atomgroup\u001b[38;5;241m.\u001b[39mindices] \u001b[38;5;241m+\u001b[39m\u001b[38;5;241m=\u001b[39m vector\n\u001b[1;32m   1427\u001b[0m     \u001b[38;5;28;01mreturn\u001b[39;00m \u001b[38;5;28mself\u001b[39m\n\u001b[0;32m-> 1429\u001b[0m \u001b[38;5;28;01mdef\u001b[39;00m \u001b[38;5;21mrotate\u001b[39m(\u001b[38;5;28mself\u001b[39m, R, point\u001b[38;5;241m=\u001b[39m(\u001b[38;5;241m0\u001b[39m, \u001b[38;5;241m0\u001b[39m, \u001b[38;5;241m0\u001b[39m)):\n\u001b[1;32m   1430\u001b[0m \u001b[38;5;250m    \u001b[39m\u001b[38;5;124mr\u001b[39m\u001b[38;5;124;03m\"\"\"Apply a rotation matrix `R` to the selection's coordinates.\u001b[39;00m\n\u001b[1;32m   1431\u001b[0m \u001b[38;5;124;03m    :math:`\\mathsf{R}` is a 3x3 orthogonal matrix that transforms a vector\u001b[39;00m\n\u001b[1;32m   1432\u001b[0m \u001b[38;5;124;03m    :math:`\\mathbf{x} \\rightarrow \\mathbf{x}'`:\u001b[39;00m\n\u001b[0;32m   (...)\u001b[0m\n\u001b[1;32m   1461\u001b[0m \n\u001b[1;32m   1462\u001b[0m \u001b[38;5;124;03m    \"\"\"\u001b[39;00m\n\u001b[1;32m   1463\u001b[0m     R \u001b[38;5;241m=\u001b[39m np\u001b[38;5;241m.\u001b[39masarray(R)\n",
      "\u001b[0;31mKeyboardInterrupt\u001b[0m: "
     ]
    }
   ],
   "source": [
    "for sys in systems:\n",
    "    for rep in replicas:\n",
    "        print(f'Working on System {sys} Run {rep}.')\n",
    "        ref_struct = g.glob(f'REF_Structures/{sys}.pdb')[0]\n",
    "        parm = g.glob(f'../../data/{sys}_{rep}/init.pdb')[0]\n",
    "        dcd  = g.glob(f'../../data/{sys}_{rep}/converted.dcd')[0]\n",
    "        u = mda.Universe(parm, dcd, in_memory=True, in_memory_step=1) # Becareful about Changing this. \n",
    "        ref = mda.Universe(ref_struct)\n",
    "        \n",
    "        # Align the Trajectories\n",
    "        align.AlignTraj(u, ref, select=\"name CA\",in_memory=True).run()\n",
    "        \n",
    "        # Write the trajectory\n",
    "        protein = u.select_atoms('protein and not name pseu')\n",
    "        protein.write(f\"{sys}-{rep}.pdb\")\n",
    "        with mda.Writer(f\"{sys}-{rep}.dcd\", protein.n_atoms) as W:\n",
    "            for ts in tqdm(u.trajectory, bar_format=bar_format_str):\n",
    "                W.write(protein)\n",
    "        \n",
    "        # Do the MDPocket Analysis\n",
    "        pdb_remake = f'../{sys}-{rep}.pdb'\n",
    "        dcd_remake = f'../{sys}-{rep}.dcd'\n",
    "        my_pocket = '../my_pocket.pdb' # This PDB was used to define the EGFR Pocket \n",
    "        os.system(f'mkdir my_pocket_{sys}-{rep} 2> null')\n",
    "        os.system('rm null')\n",
    "        os.chdir(f'my_pocket_{sys}-{rep}')\n",
    "        os.system(f'mdpocket --trajectory_file {dcd_remake} --trajectory_format dcd -f {pdb_remake} --selected_pocket {my_pocket}')\n",
    "        os.chdir('../') "
   ]
  },
  {
   "cell_type": "code",
   "execution_count": null,
   "id": "ea36d313",
   "metadata": {},
   "outputs": [],
   "source": []
  }
 ],
 "metadata": {
  "kernelspec": {
   "display_name": "Python 3 (ipykernel)",
   "language": "python",
   "name": "python3"
  },
  "language_info": {
   "codemirror_mode": {
    "name": "ipython",
    "version": 3
   },
   "file_extension": ".py",
   "mimetype": "text/x-python",
   "name": "python",
   "nbconvert_exporter": "python",
   "pygments_lexer": "ipython3",
   "version": "3.11.7"
  },
  "toc": {
   "base_numbering": 1,
   "nav_menu": {},
   "number_sections": true,
   "sideBar": true,
   "skip_h1_title": false,
   "title_cell": "Table of Contents",
   "title_sidebar": "Contents",
   "toc_cell": false,
   "toc_position": {},
   "toc_section_display": true,
   "toc_window_display": false
  }
 },
 "nbformat": 4,
 "nbformat_minor": 5
}
